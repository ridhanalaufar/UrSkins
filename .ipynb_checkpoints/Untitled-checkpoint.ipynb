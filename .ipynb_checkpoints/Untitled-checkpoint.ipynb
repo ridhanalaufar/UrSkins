{
 "cells": [
  {
   "cell_type": "code",
   "execution_count": 1,
   "id": "b56a385b",
   "metadata": {},
   "outputs": [],
   "source": [
    "import numpy as np\n",
    "import pandas as pd\n",
    "import matplotlib.pyplot as plt\n",
    "import os\n",
    "from PIL import Image\n",
    "\n",
    "from keras.preprocessing.image import ImageDataGenerator\n",
    "from sklearn.model_selection import train_test_split\n",
    "from keras.callbacks import ReduceLROnPlateau\n",
    "from tensorflow.keras.models import Sequential\n",
    "from tensorflow.keras.layers import Conv2D, MaxPooling2D, Dense, Flatten, Dropout\n",
    "\n",
    "from tensorflow.keras.utils import to_categorical # used for converting labels to one-hot-encoding\n",
    "from tensorflow.keras.layers import BatchNormalization"
   ]
  },
  {
   "cell_type": "code",
   "execution_count": 2,
   "id": "f47c216e",
   "metadata": {},
   "outputs": [],
   "source": [
    "parent_folder_path = \"D:\\KULIAH\\BANGKIT-ML\\CAPSTONE-PRODUCT\\skin-deseases\\IMG_CLASSES\""
   ]
  },
  {
   "cell_type": "code",
   "execution_count": 3,
   "id": "bb6b90dc",
   "metadata": {},
   "outputs": [
    {
     "name": "stdout",
     "output_type": "stream",
     "text": [
      "{0: 'Eczema', 9: 'Warts', 1: 'Melanoma', 2: 'Atopic', 3: 'Basal', 4: 'Melanocytic', 5: 'Benign', 6: 'Psoriasis', 7: 'Seborrheic', 8: 'Tinea'}\n"
     ]
    }
   ],
   "source": [
    "# Initialize lists for image paths and labels\n",
    "image_paths = []\n",
    "class_labels = []\n",
    "\n",
    "# Initialize a dictionary for class label mappings\n",
    "class_label_map = {}\n",
    "\n",
    "# Loop through subfolders in the parent folder\n",
    "for subfolder_name in os.listdir(parent_folder_path):\n",
    "    # Extract class label from subfolder name\n",
    "    class_label = int(subfolder_name.split(\".\")[0]) - 1\n",
    "    \n",
    "    # Loop through image files in the subfolder\n",
    "    class_label_map[class_label] = subfolder_name.split(\".\")[1].split(\" \")[1]\n",
    "    \n",
    "    # loop through each image file in the subfolder\n",
    "    subfolder_path = os.path.join(parent_folder_path, subfolder_name)\n",
    "    for image_name in os.listdir(subfolder_path):\n",
    "        # Get full path to the image file\n",
    "        image_path = os.path.join(subfolder_path, image_name)\n",
    "        \n",
    "        # Append image path and class label to lists\n",
    "        image_paths.append(image_path)\n",
    "        class_labels.append(class_label)\n",
    "\n",
    "# Create a DataFrame from image paths and class labels\n",
    "data = {\"image_path\": image_paths, \"class_label\": class_labels}\n",
    "df = pd.DataFrame(data)\n",
    "\n",
    "# Print the class label map\n",
    "print(class_label_map)"
   ]
  },
  {
   "cell_type": "code",
   "execution_count": 4,
   "id": "f5b4f219",
   "metadata": {
    "scrolled": true
   },
   "outputs": [
    {
     "data": {
      "text/html": [
       "<div>\n",
       "<style scoped>\n",
       "    .dataframe tbody tr th:only-of-type {\n",
       "        vertical-align: middle;\n",
       "    }\n",
       "\n",
       "    .dataframe tbody tr th {\n",
       "        vertical-align: top;\n",
       "    }\n",
       "\n",
       "    .dataframe thead th {\n",
       "        text-align: right;\n",
       "    }\n",
       "</style>\n",
       "<table border=\"1\" class=\"dataframe\">\n",
       "  <thead>\n",
       "    <tr style=\"text-align: right;\">\n",
       "      <th></th>\n",
       "      <th>image_path</th>\n",
       "      <th>class_label</th>\n",
       "    </tr>\n",
       "  </thead>\n",
       "  <tbody>\n",
       "    <tr>\n",
       "      <th>0</th>\n",
       "      <td>D:\\KULIAH\\BANGKIT-ML\\CAPSTONE-PRODUCT\\skin-des...</td>\n",
       "      <td>0</td>\n",
       "    </tr>\n",
       "    <tr>\n",
       "      <th>1</th>\n",
       "      <td>D:\\KULIAH\\BANGKIT-ML\\CAPSTONE-PRODUCT\\skin-des...</td>\n",
       "      <td>0</td>\n",
       "    </tr>\n",
       "    <tr>\n",
       "      <th>2</th>\n",
       "      <td>D:\\KULIAH\\BANGKIT-ML\\CAPSTONE-PRODUCT\\skin-des...</td>\n",
       "      <td>0</td>\n",
       "    </tr>\n",
       "    <tr>\n",
       "      <th>3</th>\n",
       "      <td>D:\\KULIAH\\BANGKIT-ML\\CAPSTONE-PRODUCT\\skin-des...</td>\n",
       "      <td>0</td>\n",
       "    </tr>\n",
       "    <tr>\n",
       "      <th>4</th>\n",
       "      <td>D:\\KULIAH\\BANGKIT-ML\\CAPSTONE-PRODUCT\\skin-des...</td>\n",
       "      <td>0</td>\n",
       "    </tr>\n",
       "    <tr>\n",
       "      <th>...</th>\n",
       "      <td>...</td>\n",
       "      <td>...</td>\n",
       "    </tr>\n",
       "    <tr>\n",
       "      <th>27148</th>\n",
       "      <td>D:\\KULIAH\\BANGKIT-ML\\CAPSTONE-PRODUCT\\skin-des...</td>\n",
       "      <td>8</td>\n",
       "    </tr>\n",
       "    <tr>\n",
       "      <th>27149</th>\n",
       "      <td>D:\\KULIAH\\BANGKIT-ML\\CAPSTONE-PRODUCT\\skin-des...</td>\n",
       "      <td>8</td>\n",
       "    </tr>\n",
       "    <tr>\n",
       "      <th>27150</th>\n",
       "      <td>D:\\KULIAH\\BANGKIT-ML\\CAPSTONE-PRODUCT\\skin-des...</td>\n",
       "      <td>8</td>\n",
       "    </tr>\n",
       "    <tr>\n",
       "      <th>27151</th>\n",
       "      <td>D:\\KULIAH\\BANGKIT-ML\\CAPSTONE-PRODUCT\\skin-des...</td>\n",
       "      <td>8</td>\n",
       "    </tr>\n",
       "    <tr>\n",
       "      <th>27152</th>\n",
       "      <td>D:\\KULIAH\\BANGKIT-ML\\CAPSTONE-PRODUCT\\skin-des...</td>\n",
       "      <td>8</td>\n",
       "    </tr>\n",
       "  </tbody>\n",
       "</table>\n",
       "<p>27153 rows × 2 columns</p>\n",
       "</div>"
      ],
      "text/plain": [
       "                                              image_path  class_label\n",
       "0      D:\\KULIAH\\BANGKIT-ML\\CAPSTONE-PRODUCT\\skin-des...            0\n",
       "1      D:\\KULIAH\\BANGKIT-ML\\CAPSTONE-PRODUCT\\skin-des...            0\n",
       "2      D:\\KULIAH\\BANGKIT-ML\\CAPSTONE-PRODUCT\\skin-des...            0\n",
       "3      D:\\KULIAH\\BANGKIT-ML\\CAPSTONE-PRODUCT\\skin-des...            0\n",
       "4      D:\\KULIAH\\BANGKIT-ML\\CAPSTONE-PRODUCT\\skin-des...            0\n",
       "...                                                  ...          ...\n",
       "27148  D:\\KULIAH\\BANGKIT-ML\\CAPSTONE-PRODUCT\\skin-des...            8\n",
       "27149  D:\\KULIAH\\BANGKIT-ML\\CAPSTONE-PRODUCT\\skin-des...            8\n",
       "27150  D:\\KULIAH\\BANGKIT-ML\\CAPSTONE-PRODUCT\\skin-des...            8\n",
       "27151  D:\\KULIAH\\BANGKIT-ML\\CAPSTONE-PRODUCT\\skin-des...            8\n",
       "27152  D:\\KULIAH\\BANGKIT-ML\\CAPSTONE-PRODUCT\\skin-des...            8\n",
       "\n",
       "[27153 rows x 2 columns]"
      ]
     },
     "execution_count": 4,
     "metadata": {},
     "output_type": "execute_result"
    }
   ],
   "source": [
    "df"
   ]
  },
  {
   "cell_type": "code",
   "execution_count": 5,
   "id": "e20a8f8d",
   "metadata": {},
   "outputs": [
    {
     "name": "stdout",
     "output_type": "stream",
     "text": [
      "Class 1. Eczema 1677: 1677 images\n",
      "Class 10. Warts Molluscum and other Viral Infections - 2103: 2103 images\n",
      "Class 2. Melanoma 15.75k: 3140 images\n",
      "Class 3. Atopic Dermatitis - 1.25k: 1257 images\n",
      "Class 4. Basal Cell Carcinoma (BCC) 3323: 3323 images\n",
      "Class 5. Melanocytic Nevi (NV) - 7970: 7970 images\n",
      "Class 6. Benign Keratosis-like Lesions (BKL) 2624: 2079 images\n",
      "Class 7. Psoriasis pictures Lichen Planus and related diseases - 2k: 2055 images\n",
      "Class 8. Seborrheic Keratoses and other Benign Tumors - 1.8k: 1847 images\n",
      "Class 9. Tinea Ringworm Candidiasis and other Fungal Infections - 1.7k: 1702 images\n"
     ]
    }
   ],
   "source": [
    "# Define the directory containing the image dataset\n",
    "data_dir = \"D:\\KULIAH\\BANGKIT-ML\\CAPSTONE-PRODUCT\\skin-deseases\\IMG_CLASSES\"\n",
    "\n",
    "# Get the list of subdirectories in the dataset directory (each subdirectory corresponds to a class)\n",
    "class_names = os.listdir(parent_folder_path)\n",
    "\n",
    "# Loop over the subdirectories and count the number of files in each one\n",
    "for class_name in class_names:\n",
    "    class_dir = os.path.join(parent_folder_path, class_name)\n",
    "    num_images = len(os.listdir(class_dir))\n",
    "    print(\"Class {}: {} images\".format(class_name, num_images))"
   ]
  },
  {
   "cell_type": "markdown",
   "id": "6624f789",
   "metadata": {},
   "source": [
    "### EDA"
   ]
  },
  {
   "cell_type": "code",
   "execution_count": 6,
   "id": "05cb18fd",
   "metadata": {},
   "outputs": [
    {
     "data": {
      "text/plain": [
       "<Axes: xlabel='class_label'>"
      ]
     },
     "execution_count": 6,
     "metadata": {},
     "output_type": "execute_result"
    },
    {
     "data": {
      "image/png": "[encoded data removed]",
      "text/plain": [
       "<Figure size 1000x500 with 1 Axes>"
      ]
     },
     "metadata": {},
     "output_type": "display_data"
    }
   ],
   "source": [
    "fig, ax1 = plt.subplots(1, 1, figsize= (10, 5))\n",
    "df['class_label'].value_counts().plot(kind='bar', ax=ax1)"
   ]
  },
  {
   "cell_type": "code",
   "execution_count": 22,
   "id": "9ecf4ad6",
   "metadata": {},
   "outputs": [],
   "source": [
    "max_images_per_class = 2000\n",
    "\n",
    "result_df = df.groupby('class_label').head(max_images_per_class).sort_values(by='class_label').reset_index(drop=True)"
   ]
  },
  {
   "cell_type": "code",
   "execution_count": 23,
   "id": "2ef2fe97",
   "metadata": {},
   "outputs": [
    {
     "data": {
      "text/plain": [
       "<Axes: xlabel='class_label'>"
      ]
     },
     "execution_count": 23,
     "metadata": {},
     "output_type": "execute_result"
    },
    {
     "data": {
      "image/png": "[encoded data removed]",
      "text/plain": [
       "<Figure size 1000x500 with 1 Axes>"
      ]
     },
     "metadata": {},
     "output_type": "display_data"
    }
   ],
   "source": [
    "fig, ax1 = plt.subplots(1, 1, figsize= (10, 5))\n",
    "df['class_label'].value_counts().plot(kind='bar', ax=ax1)"
   ]
  },
  {
   "cell_type": "markdown",
   "id": "471f66c6",
   "metadata": {},
   "source": [
    "### CONVERT IMAGE TO ARRAY"
   ]
  },
  {
   "cell_type": "code",
   "execution_count": 24,
   "id": "2fd4b9f2",
   "metadata": {},
   "outputs": [
    {
     "name": "stdout",
     "output_type": "stream",
     "text": [
      "[]\n"
     ]
    }
   ],
   "source": [
    "import concurrent.futures\n",
    "import tensorflow as tf\n",
    "\n",
    "# Allow gpu usage\n",
    "gpus = tf.config.experimental.list_physical_devices('GPU')\n",
    "print(gpus)\n",
    "try:\n",
    "    tf.config.experimental.set_memory_growth = True\n",
    "except Exception as ex:\n",
    "    print(e)"
   ]
  },
  {
   "cell_type": "code",
   "execution_count": 25,
   "id": "b6bc5c72",
   "metadata": {},
   "outputs": [
    {
     "data": {
      "text/plain": [
       "4"
      ]
     },
     "execution_count": 25,
     "metadata": {},
     "output_type": "execute_result"
    }
   ],
   "source": [
    "import multiprocessing\n",
    "\n",
    "# Get the number of CPU cores available\n",
    "max_workers = multiprocessing.cpu_count()\n",
    "max_workers"
   ]
  },
  {
   "cell_type": "code",
   "execution_count": 26,
   "id": "6fcc4505",
   "metadata": {},
   "outputs": [
    {
     "data": {
      "text/html": [
       "<div>\n",
       "<style scoped>\n",
       "    .dataframe tbody tr th:only-of-type {\n",
       "        vertical-align: middle;\n",
       "    }\n",
       "\n",
       "    .dataframe tbody tr th {\n",
       "        vertical-align: top;\n",
       "    }\n",
       "\n",
       "    .dataframe thead th {\n",
       "        text-align: right;\n",
       "    }\n",
       "</style>\n",
       "<table border=\"1\" class=\"dataframe\">\n",
       "  <thead>\n",
       "    <tr style=\"text-align: right;\">\n",
       "      <th></th>\n",
       "      <th>class_label</th>\n",
       "      <th>image_path</th>\n",
       "      <th>image</th>\n",
       "    </tr>\n",
       "  </thead>\n",
       "  <tbody>\n",
       "    <tr>\n",
       "      <th>0</th>\n",
       "      <td>0</td>\n",
       "      <td>D:\\KULIAH\\BANGKIT-ML\\CAPSTONE-PRODUCT\\skin-des...</td>\n",
       "      <td>[[[143, 135, 130], [149, 138, 134], [151, 144,...</td>\n",
       "    </tr>\n",
       "    <tr>\n",
       "      <th>1</th>\n",
       "      <td>0</td>\n",
       "      <td>D:\\KULIAH\\BANGKIT-ML\\CAPSTONE-PRODUCT\\skin-des...</td>\n",
       "      <td>[[[196, 135, 118], [198, 137, 125], [197, 139,...</td>\n",
       "    </tr>\n",
       "    <tr>\n",
       "      <th>2</th>\n",
       "      <td>0</td>\n",
       "      <td>D:\\KULIAH\\BANGKIT-ML\\CAPSTONE-PRODUCT\\skin-des...</td>\n",
       "      <td>[[[91, 59, 58], [93, 64, 60], [99, 60, 57], [1...</td>\n",
       "    </tr>\n",
       "    <tr>\n",
       "      <th>3</th>\n",
       "      <td>0</td>\n",
       "      <td>D:\\KULIAH\\BANGKIT-ML\\CAPSTONE-PRODUCT\\skin-des...</td>\n",
       "      <td>[[[91, 95, 106], [90, 94, 104], [91, 95, 104],...</td>\n",
       "    </tr>\n",
       "    <tr>\n",
       "      <th>4</th>\n",
       "      <td>0</td>\n",
       "      <td>D:\\KULIAH\\BANGKIT-ML\\CAPSTONE-PRODUCT\\skin-des...</td>\n",
       "      <td>[[[141, 80, 62], [149, 83, 66], [156, 88, 70],...</td>\n",
       "    </tr>\n",
       "    <tr>\n",
       "      <th>...</th>\n",
       "      <td>...</td>\n",
       "      <td>...</td>\n",
       "      <td>...</td>\n",
       "    </tr>\n",
       "    <tr>\n",
       "      <th>18478</th>\n",
       "      <td>9</td>\n",
       "      <td>D:\\KULIAH\\BANGKIT-ML\\CAPSTONE-PRODUCT\\skin-des...</td>\n",
       "      <td>[[[19, 9, 8], [19, 9, 7], [19, 9, 7], [19, 9, ...</td>\n",
       "    </tr>\n",
       "    <tr>\n",
       "      <th>18479</th>\n",
       "      <td>9</td>\n",
       "      <td>D:\\KULIAH\\BANGKIT-ML\\CAPSTONE-PRODUCT\\skin-des...</td>\n",
       "      <td>[[[27, 16, 12], [25, 14, 10], [26, 14, 12], [2...</td>\n",
       "    </tr>\n",
       "    <tr>\n",
       "      <th>18480</th>\n",
       "      <td>9</td>\n",
       "      <td>D:\\KULIAH\\BANGKIT-ML\\CAPSTONE-PRODUCT\\skin-des...</td>\n",
       "      <td>[[[110, 92, 70], [113, 93, 68], [113, 91, 68],...</td>\n",
       "    </tr>\n",
       "    <tr>\n",
       "      <th>18481</th>\n",
       "      <td>9</td>\n",
       "      <td>D:\\KULIAH\\BANGKIT-ML\\CAPSTONE-PRODUCT\\skin-des...</td>\n",
       "      <td>[[[132, 93, 60], [134, 94, 61], [137, 100, 72]...</td>\n",
       "    </tr>\n",
       "    <tr>\n",
       "      <th>18482</th>\n",
       "      <td>9</td>\n",
       "      <td>D:\\KULIAH\\BANGKIT-ML\\CAPSTONE-PRODUCT\\skin-des...</td>\n",
       "      <td>[[[215, 187, 160], [213, 185, 156], [215, 189,...</td>\n",
       "    </tr>\n",
       "  </tbody>\n",
       "</table>\n",
       "<p>18483 rows × 3 columns</p>\n",
       "</div>"
      ],
      "text/plain": [
       "       class_label                                         image_path  \\\n",
       "0                0  D:\\KULIAH\\BANGKIT-ML\\CAPSTONE-PRODUCT\\skin-des...   \n",
       "1                0  D:\\KULIAH\\BANGKIT-ML\\CAPSTONE-PRODUCT\\skin-des...   \n",
       "2                0  D:\\KULIAH\\BANGKIT-ML\\CAPSTONE-PRODUCT\\skin-des...   \n",
       "3                0  D:\\KULIAH\\BANGKIT-ML\\CAPSTONE-PRODUCT\\skin-des...   \n",
       "4                0  D:\\KULIAH\\BANGKIT-ML\\CAPSTONE-PRODUCT\\skin-des...   \n",
       "...            ...                                                ...   \n",
       "18478            9  D:\\KULIAH\\BANGKIT-ML\\CAPSTONE-PRODUCT\\skin-des...   \n",
       "18479            9  D:\\KULIAH\\BANGKIT-ML\\CAPSTONE-PRODUCT\\skin-des...   \n",
       "18480            9  D:\\KULIAH\\BANGKIT-ML\\CAPSTONE-PRODUCT\\skin-des...   \n",
       "18481            9  D:\\KULIAH\\BANGKIT-ML\\CAPSTONE-PRODUCT\\skin-des...   \n",
       "18482            9  D:\\KULIAH\\BANGKIT-ML\\CAPSTONE-PRODUCT\\skin-des...   \n",
       "\n",
       "                                                   image  \n",
       "0      [[[143, 135, 130], [149, 138, 134], [151, 144,...  \n",
       "1      [[[196, 135, 118], [198, 137, 125], [197, 139,...  \n",
       "2      [[[91, 59, 58], [93, 64, 60], [99, 60, 57], [1...  \n",
       "3      [[[91, 95, 106], [90, 94, 104], [91, 95, 104],...  \n",
       "4      [[[141, 80, 62], [149, 83, 66], [156, 88, 70],...  \n",
       "...                                                  ...  \n",
       "18478  [[[19, 9, 8], [19, 9, 7], [19, 9, 7], [19, 9, ...  \n",
       "18479  [[[27, 16, 12], [25, 14, 10], [26, 14, 12], [2...  \n",
       "18480  [[[110, 92, 70], [113, 93, 68], [113, 91, 68],...  \n",
       "18481  [[[132, 93, 60], [134, 94, 61], [137, 100, 72]...  \n",
       "18482  [[[215, 187, 160], [213, 185, 156], [215, 189,...  \n",
       "\n",
       "[18483 rows x 3 columns]"
      ]
     },
     "execution_count": 26,
     "metadata": {},
     "output_type": "execute_result"
    }
   ],
   "source": [
    "# Define a function to resize image arrays\n",
    "def resize_image_array(image_path):\n",
    "    return np.asarray(Image.open(image_path).resize((100,75)))\n",
    "\n",
    "# Use concurrent.futures to parallelize the resizing process\n",
    "with concurrent.futures.ThreadPoolExecutor(max_workers=max_workers) as executor:\n",
    "    # Use executor.map to apply the function to each image path in the DataFrame\n",
    "    image_arrays = list(executor.map(resize_image_array, df['image_path'].tolist()))\n",
    "\n",
    "# Add the resized image arrays to the DataFrame\n",
    "df['image'] = image_arrays\n",
    "del image_arrays\n",
    "df"
   ]
  },
  {
   "cell_type": "code",
   "execution_count": 27,
   "id": "ea8cce3f",
   "metadata": {},
   "outputs": [
    {
     "data": {
      "text/plain": [
       "image\n",
       "(75, 100, 3)    18483\n",
       "Name: count, dtype: int64"
      ]
     },
     "execution_count": 27,
     "metadata": {},
     "output_type": "execute_result"
    }
   ],
   "source": [
    "df['image'].map(lambda x: x.shape).value_counts()"
   ]
  },
  {
   "cell_type": "code",
   "execution_count": 28,
   "id": "727c6775",
   "metadata": {},
   "outputs": [],
   "source": [
    "from keras.preprocessing.image import ImageDataGenerator\n",
    "\n",
    "# Create an ImageDataGenerator object with the desired transformations\n",
    "datagen = ImageDataGenerator(\n",
    "    rotation_range=20,\n",
    "    width_shift_range=0.2,\n",
    "    height_shift_range=0.2,\n",
    "    shear_range=0.2,\n",
    "    zoom_range=0.2,\n",
    "    horizontal_flip=True,\n",
    "    fill_mode='nearest')"
   ]
  },
  {
   "cell_type": "code",
   "execution_count": 30,
   "id": "b6fe6f51",
   "metadata": {},
   "outputs": [],
   "source": [
    "# Create an empty dataframe to store the augmented images\n",
    "augmented_df = pd.DataFrame(columns=['image_path', 'class_label', 'image'])\n",
    "\n",
    "# Loop through each class label and generate additional images if needed\n",
    "for class_label in df['class_label'].unique():\n",
    "    # Get the image arrays for the current class\n",
    "    image_arrays = df.loc[df['class_label'] == class_label, 'image'].values\n",
    "    \n",
    "    # Calculate the number of additional images needed for the current class\n",
    "    num_images_needed = max_images_per_class - len(image_arrays)\n",
    "    \n",
    "    # Generate augmented images for the current class\n",
    "    if num_images_needed > 0:\n",
    "        # Select a random subset of the original images\n",
    "        selected_images = np.random.choice(image_arrays, size=num_images_needed)\n",
    "        \n",
    "        # Apply transformations to the selected images and add them to the augmented dataframe\n",
    "        for image_array in selected_images:\n",
    "            # Reshape the image array to a 4D tensor with a batch size of 1\n",
    "            image_tensor = np.expand_dims(image_array, axis=0)\n",
    "            \n",
    "            # Generate the augmented images\n",
    "            augmented_images = datagen.flow(image_tensor, batch_size=1)\n",
    "            \n",
    "            # Extract the augmented image arrays and add them to the augmented dataframe\n",
    "            for i in range(augmented_images.n):\n",
    "                augmented_image_array = augmented_images.next()[0].astype('uint8')\n",
    "                augmented_df = pd.concat([augmented_df, pd.DataFrame({'image_path': [None], 'class_label': [class_label], 'image': [augmented_image_array]})], ignore_index=True)\n",
    "    \n",
    "    # Add the original images for the current class to the augmented dataframe\n",
    "    original_images_df = df.loc[df['class_label'] == class_label, ['image_path', 'class_label', 'image']]\n",
    "    augmented_df = pd.concat([augmented_df, original_images_df], ignore_index=True)\n",
    "\n",
    "# Group the augmented dataframe by the 'label' column and filter out extra images\n",
    "df = augmented_df.groupby('class_label').head(max_images_per_class)\n",
    "\n",
    "del augmented_df\n",
    "\n",
    "# Use the augmented dataframe for further processing\n",
    "df = df.sample(frac=1, random_state=42).reset_index(drop=True)"
   ]
  },
  {
   "cell_type": "code",
   "execution_count": 39,
   "id": "ed659a37",
   "metadata": {},
   "outputs": [
    {
     "data": {
      "text/html": [
       "<div>\n",
       "<style scoped>\n",
       "    .dataframe tbody tr th:only-of-type {\n",
       "        vertical-align: middle;\n",
       "    }\n",
       "\n",
       "    .dataframe tbody tr th {\n",
       "        vertical-align: top;\n",
       "    }\n",
       "\n",
       "    .dataframe thead th {\n",
       "        text-align: right;\n",
       "    }\n",
       "</style>\n",
       "<table border=\"1\" class=\"dataframe\">\n",
       "  <thead>\n",
       "    <tr style=\"text-align: right;\">\n",
       "      <th></th>\n",
       "      <th>image_path</th>\n",
       "      <th>class_label</th>\n",
       "      <th>image</th>\n",
       "    </tr>\n",
       "  </thead>\n",
       "  <tbody>\n",
       "    <tr>\n",
       "      <th>0</th>\n",
       "      <td>D:\\KULIAH\\BANGKIT-ML\\CAPSTONE-PRODUCT\\skin-des...</td>\n",
       "      <td>5</td>\n",
       "      <td>[[[96, 86, 108], [99, 89, 112], [101, 92, 113]...</td>\n",
       "    </tr>\n",
       "    <tr>\n",
       "      <th>1</th>\n",
       "      <td>D:\\KULIAH\\BANGKIT-ML\\CAPSTONE-PRODUCT\\skin-des...</td>\n",
       "      <td>1</td>\n",
       "      <td>[[[206, 170, 185], [210, 173, 190], [213, 176,...</td>\n",
       "    </tr>\n",
       "    <tr>\n",
       "      <th>2</th>\n",
       "      <td>D:\\KULIAH\\BANGKIT-ML\\CAPSTONE-PRODUCT\\skin-des...</td>\n",
       "      <td>4</td>\n",
       "      <td>[[[223, 204, 187], [224, 203, 186], [227, 200,...</td>\n",
       "    </tr>\n",
       "    <tr>\n",
       "      <th>3</th>\n",
       "      <td>D:\\KULIAH\\BANGKIT-ML\\CAPSTONE-PRODUCT\\skin-des...</td>\n",
       "      <td>0</td>\n",
       "      <td>[[[214, 179, 163], [215, 180, 161], [217, 187,...</td>\n",
       "    </tr>\n",
       "    <tr>\n",
       "      <th>4</th>\n",
       "      <td>D:\\KULIAH\\BANGKIT-ML\\CAPSTONE-PRODUCT\\skin-des...</td>\n",
       "      <td>6</td>\n",
       "      <td>[[[17, 9, 7], [17, 9, 7], [17, 9, 6], [17, 9, ...</td>\n",
       "    </tr>\n",
       "    <tr>\n",
       "      <th>...</th>\n",
       "      <td>...</td>\n",
       "      <td>...</td>\n",
       "      <td>...</td>\n",
       "    </tr>\n",
       "    <tr>\n",
       "      <th>19995</th>\n",
       "      <td>D:\\KULIAH\\BANGKIT-ML\\CAPSTONE-PRODUCT\\skin-des...</td>\n",
       "      <td>5</td>\n",
       "      <td>[[[1, 1, 1], [1, 1, 1], [1, 1, 1], [1, 1, 1], ...</td>\n",
       "    </tr>\n",
       "    <tr>\n",
       "      <th>19996</th>\n",
       "      <td>D:\\KULIAH\\BANGKIT-ML\\CAPSTONE-PRODUCT\\skin-des...</td>\n",
       "      <td>5</td>\n",
       "      <td>[[[63, 61, 66], [76, 74, 78], [88, 86, 88], [1...</td>\n",
       "    </tr>\n",
       "    <tr>\n",
       "      <th>19997</th>\n",
       "      <td>D:\\KULIAH\\BANGKIT-ML\\CAPSTONE-PRODUCT\\skin-des...</td>\n",
       "      <td>2</td>\n",
       "      <td>[[[139, 109, 94], [140, 108, 93], [140, 108, 9...</td>\n",
       "    </tr>\n",
       "    <tr>\n",
       "      <th>19998</th>\n",
       "      <td>D:\\KULIAH\\BANGKIT-ML\\CAPSTONE-PRODUCT\\skin-des...</td>\n",
       "      <td>0</td>\n",
       "      <td>[[[12, 4, 1], [11, 5, 1], [10, 5, 1], [10, 5, ...</td>\n",
       "    </tr>\n",
       "    <tr>\n",
       "      <th>19999</th>\n",
       "      <td>D:\\KULIAH\\BANGKIT-ML\\CAPSTONE-PRODUCT\\skin-des...</td>\n",
       "      <td>7</td>\n",
       "      <td>[[[119, 96, 79], [117, 90, 69], [118, 87, 65],...</td>\n",
       "    </tr>\n",
       "  </tbody>\n",
       "</table>\n",
       "<p>20000 rows × 3 columns</p>\n",
       "</div>"
      ],
      "text/plain": [
       "                                              image_path class_label  \\\n",
       "0      D:\\KULIAH\\BANGKIT-ML\\CAPSTONE-PRODUCT\\skin-des...           5   \n",
       "1      D:\\KULIAH\\BANGKIT-ML\\CAPSTONE-PRODUCT\\skin-des...           1   \n",
       "2      D:\\KULIAH\\BANGKIT-ML\\CAPSTONE-PRODUCT\\skin-des...           4   \n",
       "3      D:\\KULIAH\\BANGKIT-ML\\CAPSTONE-PRODUCT\\skin-des...           0   \n",
       "4      D:\\KULIAH\\BANGKIT-ML\\CAPSTONE-PRODUCT\\skin-des...           6   \n",
       "...                                                  ...         ...   \n",
       "19995  D:\\KULIAH\\BANGKIT-ML\\CAPSTONE-PRODUCT\\skin-des...           5   \n",
       "19996  D:\\KULIAH\\BANGKIT-ML\\CAPSTONE-PRODUCT\\skin-des...           5   \n",
       "19997  D:\\KULIAH\\BANGKIT-ML\\CAPSTONE-PRODUCT\\skin-des...           2   \n",
       "19998  D:\\KULIAH\\BANGKIT-ML\\CAPSTONE-PRODUCT\\skin-des...           0   \n",
       "19999  D:\\KULIAH\\BANGKIT-ML\\CAPSTONE-PRODUCT\\skin-des...           7   \n",
       "\n",
       "                                                   image  \n",
       "0      [[[96, 86, 108], [99, 89, 112], [101, 92, 113]...  \n",
       "1      [[[206, 170, 185], [210, 173, 190], [213, 176,...  \n",
       "2      [[[223, 204, 187], [224, 203, 186], [227, 200,...  \n",
       "3      [[[214, 179, 163], [215, 180, 161], [217, 187,...  \n",
       "4      [[[17, 9, 7], [17, 9, 7], [17, 9, 6], [17, 9, ...  \n",
       "...                                                  ...  \n",
       "19995  [[[1, 1, 1], [1, 1, 1], [1, 1, 1], [1, 1, 1], ...  \n",
       "19996  [[[63, 61, 66], [76, 74, 78], [88, 86, 88], [1...  \n",
       "19997  [[[139, 109, 94], [140, 108, 93], [140, 108, 9...  \n",
       "19998  [[[12, 4, 1], [11, 5, 1], [10, 5, 1], [10, 5, ...  \n",
       "19999  [[[119, 96, 79], [117, 90, 69], [118, 87, 65],...  \n",
       "\n",
       "[20000 rows x 3 columns]"
      ]
     },
     "execution_count": 39,
     "metadata": {},
     "output_type": "execute_result"
    },
    {
     "data": {
      "image/png": "[encoded data removed]",
      "text/plain": [
       "<Figure size 1000x500 with 1 Axes>"
      ]
     },
     "metadata": {},
     "output_type": "display_data"
    }
   ],
   "source": [
    "fig, ax1 = plt.subplots(1, 1, figsize= (10, 5))\n",
    "df['class_label'].value_counts().plot(kind='bar', ax=ax1)\n",
    "df"
   ]
  },
  {
   "cell_type": "code",
   "execution_count": 46,
   "id": "ae099934",
   "metadata": {},
   "outputs": [],
   "source": [
    "features=df.drop(columns=['class_label','image_path'],axis=1)\n",
    "target=df['class_label']"
   ]
  },
  {
   "cell_type": "code",
   "execution_count": 48,
   "id": "1e4f5053",
   "metadata": {},
   "outputs": [
    {
     "name": "stdout",
     "output_type": "stream",
     "text": [
      "                                                   image\n",
      "0      [[[96, 86, 108], [99, 89, 112], [101, 92, 113]...\n",
      "1      [[[206, 170, 185], [210, 173, 190], [213, 176,...\n",
      "2      [[[223, 204, 187], [224, 203, 186], [227, 200,...\n",
      "3      [[[214, 179, 163], [215, 180, 161], [217, 187,...\n",
      "4      [[[17, 9, 7], [17, 9, 7], [17, 9, 6], [17, 9, ...\n",
      "...                                                  ...\n",
      "19995  [[[1, 1, 1], [1, 1, 1], [1, 1, 1], [1, 1, 1], ...\n",
      "19996  [[[63, 61, 66], [76, 74, 78], [88, 86, 88], [1...\n",
      "19997  [[[139, 109, 94], [140, 108, 93], [140, 108, 9...\n",
      "19998  [[[12, 4, 1], [11, 5, 1], [10, 5, 1], [10, 5, ...\n",
      "19999  [[[119, 96, 79], [117, 90, 69], [118, 87, 65],...\n",
      "\n",
      "[20000 rows x 1 columns]\n"
     ]
    }
   ],
   "source": [
    "print(features)"
   ]
  },
  {
   "cell_type": "code",
   "execution_count": 47,
   "id": "d0d5705d",
   "metadata": {},
   "outputs": [
    {
     "name": "stdout",
     "output_type": "stream",
     "text": [
      "0        5\n",
      "1        1\n",
      "2        4\n",
      "3        0\n",
      "4        6\n",
      "        ..\n",
      "19995    5\n",
      "19996    5\n",
      "19997    2\n",
      "19998    0\n",
      "19999    7\n",
      "Name: class_label, Length: 20000, dtype: object\n"
     ]
    }
   ],
   "source": [
    "print(target)"
   ]
  },
  {
   "cell_type": "code",
   "execution_count": 44,
   "id": "c9a929d5",
   "metadata": {},
   "outputs": [
    {
     "name": "stdout",
     "output_type": "stream",
     "text": [
      "(20000,) (20000, 1)\n"
     ]
    }
   ],
   "source": [
    "print(target.shape,features.shape)"
   ]
  },
  {
   "cell_type": "markdown",
   "id": "77a336b4",
   "metadata": {},
   "source": [
    "### SPLITING DATASET"
   ]
  },
  {
   "cell_type": "code",
   "execution_count": 49,
   "id": "d832dc5a",
   "metadata": {},
   "outputs": [],
   "source": [
    "x_train_o, x_test_o, y_train_o, y_test_o = train_test_split(features, target, test_size=0.20,random_state=1234)"
   ]
  },
  {
   "cell_type": "markdown",
   "id": "87498c5c",
   "metadata": {},
   "source": [
    "### NORMALIZATION"
   ]
  },
  {
   "cell_type": "code",
   "execution_count": 50,
   "id": "3c60109e",
   "metadata": {},
   "outputs": [],
   "source": [
    "x_train = np.asarray(x_train_o['image'].tolist())\n",
    "x_test = np.asarray(x_test_o['image'].tolist())\n",
    "\n",
    "x_train_mean = np.mean(x_train)\n",
    "x_train_std = np.std(x_train)\n",
    "\n",
    "x_test_mean = np.mean(x_test)\n",
    "x_test_std = np.std(x_test)\n",
    "\n",
    "x_train = (x_train - x_train_mean)/x_train_std\n",
    "x_test = (x_test - x_test_mean)/x_test_std"
   ]
  },
  {
   "cell_type": "code",
   "execution_count": 52,
   "id": "9fe75ce2",
   "metadata": {},
   "outputs": [],
   "source": [
    "# Perform one-hot encoding on the labels\n",
    "y_train = to_categorical(y_train_o,num_classes = 10)\n",
    "y_test = to_categorical(y_test_o,num_classes = 10)"
   ]
  },
  {
   "cell_type": "code",
   "execution_count": 53,
   "id": "15b53dc1",
   "metadata": {},
   "outputs": [],
   "source": [
    "x_train, x_validate, y_train, y_validate = train_test_split(x_train, y_train, test_size = 0.1, random_state = 2)"
   ]
  },
  {
   "cell_type": "code",
   "execution_count": 54,
   "id": "ca0b26c0",
   "metadata": {},
   "outputs": [],
   "source": [
    "# Reshape image in 3 dimensions (height = 75px, width = 100px , canal = 3)\n",
    "x_train = x_train.reshape(x_train.shape[0], *(75, 100, 3))\n",
    "x_test = x_test.reshape(x_test.shape[0], *(75, 100, 3))\n",
    "x_validate = x_validate.reshape(x_validate.shape[0], *(75, 100, 3))"
   ]
  },
  {
   "cell_type": "code",
   "execution_count": 55,
   "id": "762a350b",
   "metadata": {},
   "outputs": [],
   "source": [
    "# Define data augmentation parameters\n",
    "datagen = ImageDataGenerator(\n",
    "        rotation_range=10,  # randomly rotate images in the range (degrees, 0 to 180)\n",
    "        zoom_range = 0.1, # Randomly zoom image \n",
    "        width_shift_range=0.1,  # randomly shift images horizontally (fraction of total width)\n",
    "        height_shift_range=0.1,  # randomly shift images vertically (fraction of total height)\n",
    "        shear_range=0.2, # Shear angle in counter-clockwise direction in degrees\n",
    ")\n",
    "\n",
    "# Prepare the data generators\n",
    "train_generator = datagen.flow(x_train, y_train, batch_size=32)\n",
    "val_generator = datagen.flow(x_validate, y_validate, batch_size=32)"
   ]
  },
  {
   "cell_type": "markdown",
   "id": "0b5d7bc8",
   "metadata": {},
   "source": [
    "## BUILD MODEL"
   ]
  },
  {
   "cell_type": "code",
   "execution_count": 63,
   "id": "593455c5",
   "metadata": {},
   "outputs": [],
   "source": [
    "from tensorflow.keras.optimizers import Adam\n",
    "from tensorflow.keras.applications.resnet import preprocess_input as resnet_preprocess_input\n",
    "from tensorflow.keras.applications import DenseNet121\n",
    "\n",
    "num_classes = 10\n",
    "input_shape = (75,100,3)\n",
    "\n",
    "# DenseNet121\n",
    "model = Sequential()\n",
    "model.add(DenseNet121(include_top=False, weights='imagenet', input_shape=input_shape))\n",
    "model.add(Flatten())\n",
    "model.add(Dense(512, activation='relu'))\n",
    "model.add(Dense(num_classes, activation='softmax'))\n",
    "\n",
    "optimizer = Adam(learning_rate=0.001, beta_1=0.9, beta_2=0.999)\n",
    "model.compile(optimizer=optimizer, loss='categorical_crossentropy', metrics=['accuracy'])"
   ]
  },
  {
   "cell_type": "code",
   "execution_count": 64,
   "id": "18652a95",
   "metadata": {},
   "outputs": [],
   "source": [
    "learning_rate_reduction = ReduceLROnPlateau(monitor='val_acc',\n",
    "                                            patience=3,\n",
    "                                            verbose=1,\n",
    "                                            factor=0.5,\n",
    "                                            min_lr=0.00001)"
   ]
  },
  {
   "cell_type": "markdown",
   "id": "138f767e",
   "metadata": {},
   "source": [
    "## Model Fitting"
   ]
  },
  {
   "cell_type": "code",
   "execution_count": null,
   "id": "079f35c7",
   "metadata": {},
   "outputs": [],
   "source": [
    "epochs = 50\n",
    "batch_size=32\n",
    "history = model.fit(x=x_train,\n",
    "                    y=y_train,\n",
    "                    epochs=epochs,\n",
    "                    batch_size=batch_size,\n",
    "                    validation_data=(x_validate,y_validate),\n",
    "                    callbacks=learning_rate_reduction)"
   ]
  },
  {
   "cell_type": "code",
   "execution_count": null,
   "id": "ed370199",
   "metadata": {},
   "outputs": [],
   "source": [
    "from sklearn.metrics import confusion_matrix\n",
    "import seaborn as sns\n",
    "\n",
    "# Get the predicted probabilities for the test set\n",
    "y_pred_prob = model.predict(x_test)\n",
    "\n",
    "# Find the class with the highest probability for each sample\n",
    "y_pred = np.argmax(y_pred_prob, axis=1)\n",
    "\n",
    "# Calculate the confusion matrix\n",
    "cm = confusion_matrix(np.argmax(y_test, axis=1), y_pred)\n",
    "\n",
    "# Plot the confusion matrix using Seaborn\n",
    "sns.heatmap(cm, annot=True, cmap='Blues')"
   ]
  },
  {
   "cell_type": "code",
   "execution_count": null,
   "id": "9b126383",
   "metadata": {},
   "outputs": [],
   "source": [
    "from sklearn.metrics import confusion_matrix, accuracy_score, precision_score, recall_score, f1_score, cohen_kappa_score\n",
    "\n",
    "# Calculate evaluation metrics\n",
    "accuracy = accuracy_score(np.argmax(y_test, axis=1), y_pred)\n",
    "precision = precision_score(np.argmax(y_test, axis=1), y_pred, average='macro')\n",
    "recall = recall_score(np.argmax(y_test, axis=1), y_pred, average='macro')\n",
    "f1 = f1_score(np.argmax(y_test, axis=1), y_pred, average='macro')\n",
    "kappa = cohen_kappa_score(np.argmax(y_test, axis=1), y_pred)\n",
    "\n",
    "print(f\"Accuracy: {accuracy:.4f}\")\n",
    "print(f\"Precision: {precision:.4f}\")\n",
    "print(f\"Recall: {recall:.4f}\")\n",
    "print(f\"F1-score: {f1:.4f}\")\n",
    "print(f\"Kappa score: {kappa:.4f}\")"
   ]
  },
  {
   "cell_type": "code",
   "execution_count": null,
   "id": "3c460f63",
   "metadata": {},
   "outputs": [],
   "source": [
    "import matplotlib.pyplot as plt\n",
    "\n",
    "# Get training and testing accuracy and loss histories\n",
    "training_accuracy = history.history['accuracy']\n",
    "validation_accuracy = history.history['val_accuracy']\n",
    "training_loss = history.history['loss']\n",
    "validation_loss = history.history['val_loss']\n",
    "\n",
    "# Plot training and testing accuracy curves\n",
    "plt.plot(training_accuracy)\n",
    "plt.plot(validation_accuracy)\n",
    "plt.title('Training vs Validation Accuracy')\n",
    "plt.ylabel('Accuracy')\n",
    "plt.xlabel('Epoch')\n",
    "plt.legend(['Training', 'Validation'], loc='lower right')\n",
    "plt.show()\n",
    "\n",
    "# Plot training and testing loss curves\n",
    "plt.plot(training_loss)\n",
    "plt.plot(validation_loss)\n",
    "plt.title('Training vs Validation Loss')\n",
    "plt.ylabel('Loss')\n",
    "plt.xlabel('Epoch')\n",
    "plt.legend(['Training', 'Validation'], loc='upper right')\n",
    "plt.show()"
   ]
  }
 ],
 "metadata": {
  "kernelspec": {
   "display_name": "Python 3 (ipykernel)",
   "language": "python",
   "name": "python3"
  },
  "language_info": {
   "codemirror_mode": {
    "name": "ipython",
    "version": 3
   },
   "file_extension": ".py",
   "mimetype": "text/x-python",
   "name": "python",
   "nbconvert_exporter": "python",
   "pygments_lexer": "ipython3",
   "version": "3.10.5"
  }
 },
 "nbformat": 4,
 "nbformat_minor": 5
}
